{
 "cells": [
  {
   "cell_type": "markdown",
   "metadata": {},
   "source": [
    "•\tIntroduction\n",
    "The business problem is about opening a restaurant in Vancouver.  Those who are interested in investing in the city would be interested in the project. This analysis can be used to understand the neighborhood and decide what type of restaurant and which area to invest in Vancouver.\n",
    "\n",
    "•\tData\n",
    "Vancouver neighborhood data with postal code and latitude/longitude data would be used in combination with Four square API would be used to retrieve venue data in each neighborhood.\n",
    "\n",
    "•\tMethodology\n",
    "Exploratory analysis was performed to used to understand the Vancouver neighborhoods.  Due to the sparsity and size of the Greater Vancouver area, I decided to select only Vancouver, Burnaby, Surrey and Richmond was used in this project.  These areas contain the majority of the population and will provide the best insights.\n",
    "Clustering was used to separate different areas in Vancouver according to particular characteristics.\n",
    "\n",
    "•\tResults\n",
    "Vancouver was found to have many venues but very similar characteristics in different clusters.  There were few that are particularly different that contained less commercial characteristics.\n",
    "•\tDiscussion\n",
    "There were certain clusters that contained only nature related venues such as farms, habor marina , trails and lakes.  It is probably not ideal to open a restaurant in these areas due to the lack of other related venues.  On the other hand, some clusters contain breakfast spots an restaurants, I indicating the likelihood of higher population density.  One may choose a type of restaurant that is not saturated in those clusters and open one.\n",
    "\n",
    "•\tConclusion\n",
    "Due to the limited geographical data available, little insights can be made to each Vancouver neighborhood.  Additional data such as demographics information can be used to further allow investors to understand the potential profits in opening a restaurant in a particular area.  Income data and spending habits are some valuable data that can be utilized for investing decisions.  However, due to time constraints and data availability, it is not possible to explore such resources at the moment.\n",
    "\n"
   ]
  },
  {
   "cell_type": "code",
   "execution_count": null,
   "metadata": {},
   "outputs": [],
   "source": []
  }
 ],
 "metadata": {
  "kernelspec": {
   "display_name": "Python 3",
   "language": "python",
   "name": "python3"
  },
  "language_info": {
   "codemirror_mode": {
    "name": "ipython",
    "version": 3
   },
   "file_extension": ".py",
   "mimetype": "text/x-python",
   "name": "python",
   "nbconvert_exporter": "python",
   "pygments_lexer": "ipython3",
   "version": "3.6.4"
  }
 },
 "nbformat": 4,
 "nbformat_minor": 2
}
